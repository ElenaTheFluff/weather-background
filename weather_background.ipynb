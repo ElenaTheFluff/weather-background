{
 "metadata": {
  "language_info": {
   "codemirror_mode": {
    "name": "ipython",
    "version": 3
   },
   "file_extension": ".py",
   "mimetype": "text/x-python",
   "name": "python",
   "nbconvert_exporter": "python",
   "pygments_lexer": "ipython3",
   "version": "3.8.12-final"
  },
  "orig_nbformat": 2,
  "kernelspec": {
   "name": "python3",
   "display_name": "Python 3.8.12 64-bit ('base': conda)",
   "metadata": {
    "interpreter": {
     "hash": "0993a60ed560169030d334dd0d3e855cc9ba9ed4c4d3e40f82ea61f157e274fa"
    }
   }
  }
 },
 "nbformat": 4,
 "nbformat_minor": 2,
 "cells": [
  {
   "source": [
    "# Temperature Background"
   ],
   "cell_type": "markdown",
   "metadata": {}
  },
  {
   "cell_type": "code",
   "execution_count": 1,
   "metadata": {},
   "outputs": [],
   "source": [
    "# Imports\n",
    "from PIL import Image\n",
    "from meteostat import Point, Daily\n",
    "\n",
    "import datetime as dt\n",
    "import numpy as np\n",
    "import pandas as pd"
   ]
  },
  {
   "source": [
    "# Variables\n",
    "\n",
    "# Time period for data\n",
    "start = dt.datetime(1950, 1, 1)\n",
    "end = dt.datetime.now()\n",
    "\n",
    "# Weather station. Location taken from: https://github.com/meteostat/weather-stations/search?q=berlin\n",
    "berlin = Point(52.4667, 13.4, 50)\n",
    "munich = Point(48.1333, 11.55, 520)\n",
    "\n",
    "# colour scale\n",
    "scale = {}"
   ],
   "cell_type": "code",
   "metadata": {},
   "execution_count": 2,
   "outputs": []
  },
  {
   "cell_type": "code",
   "execution_count": 3,
   "metadata": {},
   "outputs": [],
   "source": [
    "# Functions\n",
    "\n",
    "def df_to_list(df):\n",
    "    ls = df.values.tolist()\n",
    "    return ls\n",
    "\n",
    "\n",
    "def df_to_pv(df, value):\n",
    "    df = df.pivot(index=\"year\", columns=\"day\", values=value)\n",
    "    df = df.dropna(how=\"any\")\n",
    "    return df   \n",
    "\n",
    "\n",
    "def get_data(location):\n",
    "    data = Daily(location, start, end)\n",
    "    df = data.fetch()\n",
    "    df.to_excel('RawData.xlsx')\n",
    "    return df\n",
    "\n",
    "\n",
    "def group_data(df, value):\n",
    "    df[\"year\"] = df[\"time\"].dt.year\n",
    "    df = df.drop(columns=[\"time\"], axis=1)\n",
    "    df[\"count\"] = 1\n",
    "    df = df.dropna()\n",
    "    df = df.groupby([\"year\"]) \\\n",
    "            .agg({value:'mean', 'count':'sum'}) \\\n",
    "            .reset_index()\n",
    "    df = df.loc[df[\"count\"] >= 356]\n",
    "    df = df.drop(columns=[\"count\"], axis=1)\n",
    "    return df\n",
    "\n",
    "\n",
    "def ls_to_image(ls):\n",
    "    array = np.array(ls, dtype=np.uint8)\n",
    "    image = Image.fromarray(array)\n",
    "    return image\n",
    "\n",
    "\n",
    "def repeat_rows(df, reps):\n",
    "    df = pd.DataFrame(np.repeat(df.values, reps, axis=0))\n",
    "    return df\n",
    "\n",
    "\n",
    "def select_rel_data(df, value):\n",
    "    df = df.reset_index()\n",
    "    coloumns = [\"time\", str(value)]\n",
    "    df = df[coloumns]\n",
    "    df = df.sort_values(by=\"time\", ascending=True)\n",
    "    return df\n",
    "\n",
    "\n",
    "def set_colour(d, keys, value):\n",
    "    for k in keys:\n",
    "        d[k] = value\n",
    "\n",
    "\n",
    "def set_scale(df):\n",
    "    min = round(df.min().min())\n",
    "    max = round(df.max().max()) + 1\n",
    "    diff = max - min\n",
    "    set_colour(scale, range(int(min), int(min + diff * 1/8)), [230, 234, 233])\n",
    "    set_colour(scale, range(int(min + diff * 1/8), int(min + diff * 2/8)), [209, 219, 225])\n",
    "    set_colour(scale, range(int(min + diff * 2/8), int(min + diff * 3/8)), [218, 220, 223])\n",
    "    set_colour(scale, range(int(min + diff * 3/8), int(min + diff * 4/8)), [199, 189, 194])\n",
    "    set_colour(scale, range(int(min + diff * 4/8), int(min + diff * 5/8)), [179, 173, 178])\n",
    "    set_colour(scale, range(int(min + diff * 5/8), int(min + diff * 6/8)), [161, 154, 158])\n",
    "    set_colour(scale, range(int(min + diff * 6/8), int(min + diff * 7/8)), [136, 117, 123])\n",
    "    set_colour(scale, range(int(min + diff * 7/8), int(min + diff)), [96, 79, 91])\n",
    "    return scale\n",
    "\n",
    "\n",
    "def temp_to_pixel(ls):\n",
    "    for x in range(0, len(ls)):\n",
    "        for y in range(0, len(ls[x])):\n",
    "            ls[x][y] = np.round(ls[x][y])\n",
    "            ls[x][y] = scale[ls[x][y]]\n",
    "    return ls\n",
    "\n",
    "\n",
    "def transform_columns(df):\n",
    "    df[\"date\"] = pd.to_datetime(df[\"time\"])\n",
    "    df[\"year\"] = df[\"date\"].dt.year\n",
    "    df[\"day\"] = df[\"date\"].dt.day_of_year\n",
    "    # exclude day 366 for leap years\n",
    "    df = df[(df[\"day\"] <= 365)]\n",
    "    return df\n",
    "\n",
    "\n",
    "def transform_data(df, value):\n",
    "    df[value] = df[value] * 10\n",
    "    df[value] = df[value].astype(int)\n",
    "    return df\n",
    "\n",
    "\n",
    "def transpose_data(df):\n",
    "    df = df.drop(columns=[\"year\"], axis=0)\n",
    "    df = df.T\n",
    "    return df"
   ]
  },
  {
   "source": [
    "## Create & show final image"
   ],
   "cell_type": "markdown",
   "metadata": {}
  },
  {
   "cell_type": "code",
   "execution_count": 4,
   "metadata": {},
   "outputs": [],
   "source": [
    "def horizonral_image(name, location, value, reps):\n",
    "    df = get_data(location)\n",
    "    df = select_rel_data(df, value)\n",
    "    df = group_data(df, value)\n",
    "    df = transform_data(df, value)\n",
    "    df = transpose_data(df)\n",
    "    df = repeat_rows(df, reps)\n",
    "    ls = df_to_list(df)\n",
    "    scale = set_scale(df)\n",
    "    ls = temp_to_pixel(ls)\n",
    "    image = ls_to_image(ls)\n",
    "    image.save(name + \".png\")\n",
    "    return image\n",
    "\n",
    "\n",
    "def pixel_image(name, location, value, reps):\n",
    "    df = get_data(location)\n",
    "    df = select_rel_data(df, value)\n",
    "    df = transform_columns(df)\n",
    "    df = df_to_pv(df, value)\n",
    "    df = repeat_rows(df, reps)\n",
    "    ls = df_to_list(df)\n",
    "    scale = set_scale(df)\n",
    "    ls = temp_to_pixel(ls)\n",
    "    image = ls_to_image(ls)\n",
    "    image.save(name + \".png\")\n",
    "    return image\n"
   ]
  },
  {
   "cell_type": "code",
   "execution_count": 5,
   "metadata": {},
   "outputs": [],
   "source": [
    "horizontal_background = horizonral_image(name = 'horizontal_image', location = munich, value = \"tmax\", reps = 50)\n"
   ]
  },
  {
   "cell_type": "code",
   "execution_count": 6,
   "metadata": {},
   "outputs": [],
   "source": [
    "pixel_background = pixel_image(name= \"pixel_image\", location = munich, value = \"tmin\", reps = 3)"
   ]
  },
  {
   "cell_type": "code",
   "execution_count": 7,
   "metadata": {},
   "outputs": [
    {
     "output_type": "execute_result",
     "data": {
      "text/plain": [
       "<PIL.Image.Image image mode=RGB size=72x50 at 0x7FA3BB2226A0>"
      ],
      "image/png": "[encoded data removed]"
     },
     "metadata": {},
     "execution_count": 7
    }
   ],
   "source": [
    "horizontal_background"
   ]
  },
  {
   "cell_type": "code",
   "execution_count": 8,
   "metadata": {},
   "outputs": [
    {
     "output_type": "execute_result",
     "data": {
      "text/plain": [
       "<PIL.Image.Image image mode=RGB size=365x213 at 0x7FA3BB131CA0>"
      ],
      "image/png": "[encoded data removed]"
     },
     "metadata": {},
     "execution_count": 8
    }
   ],
   "source": [
    "pixel_background"
   ]
  }
 ]
}